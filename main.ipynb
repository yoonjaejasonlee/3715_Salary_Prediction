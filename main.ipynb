{
 "cells": [
  {
   "cell_type": "code",
   "execution_count": 2,
   "metadata": {
    "collapsed": true
   },
   "outputs": [],
   "source": [
    "import pandas as pd\n",
    "import numpy as np\n",
    "import matplotlib.pyplot as plt\n",
    "import warnings\n",
    "warnings.filterwarnings('ignore')"
   ]
  },
  {
   "cell_type": "code",
   "execution_count": 33,
   "outputs": [
    {
     "name": "stdout",
     "output_type": "stream",
     "text": [
      "\n",
      "We will be analyzing the data of 152 different pitchers\n",
      "\n",
      "Based this data, we will be predicting their salaries for 2018 Season\n"
     ]
    }
   ],
   "source": [
    "stats = pd.read_csv(\"stats.csv\")\n",
    "\n",
    "print(f\"\\nWe will be analyzing the data of {stats.shape[0]} different pitchers\")\n",
    "print(\"\\nBased this data, we will be predicting their salaries for 2018 Season\")"
   ],
   "metadata": {
    "collapsed": false
   }
  },
  {
   "cell_type": "code",
   "execution_count": 37,
   "outputs": [
    {
     "data": {
      "text/plain": "count       152.000000\nmean      18932.236842\nstd       30940.732924\nmin        2700.000000\n25%        4000.000000\n50%        7550.000000\n75%       18500.000000\nmax      230000.000000\nName: Salary(2018), dtype: float64"
     },
     "execution_count": 37,
     "metadata": {},
     "output_type": "execute_result"
    }
   ],
   "source": [
    "#The money value follows the following rule\n",
    "# 1 = $10 -> 2700 = $27000\n",
    "# The statistics are from Korea Based website, so the US Dollar Conversion would be adding a zero at the end.\n",
    "stats[\"Salary(2018)\"].describe()"
   ],
   "metadata": {
    "collapsed": false
   }
  },
  {
   "cell_type": "code",
   "execution_count": null,
   "outputs": [],
   "source": [],
   "metadata": {
    "collapsed": false,
    "pycharm": {
     "is_executing": true
    }
   }
  },
  {
   "cell_type": "code",
   "execution_count": 19,
   "outputs": [],
   "source": [],
   "metadata": {
    "collapsed": false
   }
  }
 ],
 "metadata": {
  "kernelspec": {
   "display_name": "Python 3",
   "language": "python",
   "name": "python3"
  },
  "language_info": {
   "codemirror_mode": {
    "name": "ipython",
    "version": 2
   },
   "file_extension": ".py",
   "mimetype": "text/x-python",
   "name": "python",
   "nbconvert_exporter": "python",
   "pygments_lexer": "ipython2",
   "version": "2.7.6"
  }
 },
 "nbformat": 4,
 "nbformat_minor": 0
}
